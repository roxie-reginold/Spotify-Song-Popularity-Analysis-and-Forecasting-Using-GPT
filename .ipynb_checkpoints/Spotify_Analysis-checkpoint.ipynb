{
 "cells": [
  {
   "cell_type": "markdown",
   "id": "b3493627-4b90-4ac1-a40e-60ddd097c7e0",
   "metadata": {},
   "source": [
    "## Kaggle Data Set https://www.kaggle.com/datasets/nelgiriyewithana/most-streamed-spotify-songs-2024\n"
   ]
  },
  {
   "cell_type": "markdown",
   "id": "d287323f-f0cb-416a-ae02-ad492501f0e5",
   "metadata": {},
   "source": [
    "### Step 1: Load and Clean the Data"
   ]
  },
  {
   "cell_type": "code",
   "execution_count": 246,
   "id": "8424d8d3-1b67-4631-94bd-ee3ca561dbe6",
   "metadata": {},
   "outputs": [],
   "source": [
    "import pandas as pd\n",
    "import numpy as np\n"
   ]
  },
  {
   "cell_type": "code",
   "execution_count": 247,
   "id": "c6202ec7-f8d4-4cea-adde-5ef0cb90d84f",
   "metadata": {},
   "outputs": [],
   "source": [
    "# Load the dataset\n",
    "df = pd.read_csv('Most Streamed Spotify Songs 2024.csv')"
   ]
  },
  {
   "cell_type": "code",
   "execution_count": 248,
   "id": "b3b54392-3891-41da-bf31-55a65a3a0b6f",
   "metadata": {},
   "outputs": [
    {
     "name": "stdout",
     "output_type": "stream",
     "text": [
      "                                Track                        Album Name  \\\n",
      "0                 MILLION DOLLAR BABY      Million Dollar Baby - Single   \n",
      "1                         Not Like Us                       Not Like Us   \n",
      "2          i like the way you kiss me        I like the way you kiss me   \n",
      "3                             Flowers                  Flowers - Single   \n",
      "4                             Houdini                           Houdini   \n",
      "...                               ...                               ...   \n",
      "4595                For the Last Time                 For the Last Time   \n",
      "4596                 Dil Meri Na Sune  Dil Meri Na Sune (From \"Genius\")   \n",
      "4597            Grace (feat. 42 Dugg)                           My Turn   \n",
      "4598              Nashe Si Chadh Gayi             November Top 10 Songs   \n",
      "4599  Me Acostumbre (feat. Bad Bunny)   Me Acostumbre (feat. Bad Bunny)   \n",
      "\n",
      "              Artist Release Date          ISRC All Time Rank  Track Score  \\\n",
      "0      Tommy Richman    4/26/2024  QM24S2402528             1        725.4   \n",
      "1     Kendrick Lamar     5/4/2024  USUG12400910             2        545.9   \n",
      "2            Artemas    3/19/2024  QZJ842400387             3        538.4   \n",
      "3        Miley Cyrus    1/12/2023  USSM12209777             4        444.9   \n",
      "4             Eminem    5/31/2024  USUG12403398             5        423.3   \n",
      "...              ...          ...           ...           ...          ...   \n",
      "4595     $uicideboy$     9/5/2017  QM8DG1703420         4,585         19.4   \n",
      "4596      Atif Aslam    7/27/2018  INT101800122         4,575         19.4   \n",
      "4597        Lil Baby    2/28/2020  USUG12000043         4,571         19.4   \n",
      "4598    Arijit Singh    11/8/2016  INY091600067         4,591         19.4   \n",
      "4599       Arcï¿½ï¿½    4/11/2017  USB271700107         4,593         19.4   \n",
      "\n",
      "     Spotify Streams Spotify Playlist Count Spotify Playlist Reach  ...  \\\n",
      "0        390,470,936                 30,716            196,631,588  ...   \n",
      "1        323,703,884                 28,113            174,597,137  ...   \n",
      "2        601,309,283                 54,331            211,607,669  ...   \n",
      "3      2,031,280,633                269,802            136,569,078  ...   \n",
      "4        107,034,922                  7,223            151,469,874  ...   \n",
      "...              ...                    ...                    ...  ...   \n",
      "4595     305,049,963                 65,770              5,103,054  ...   \n",
      "4596      52,282,360                  4,602              1,449,767  ...   \n",
      "4597     189,972,685                 72,066              6,704,802  ...   \n",
      "4598     145,467,020                 14,037              7,387,064  ...   \n",
      "4599     255,740,653                 32,138             14,066,526  ...   \n",
      "\n",
      "      SiriusXM Spins Deezer Playlist Count Deezer Playlist Reach  \\\n",
      "0                684                  62.0            17,598,718   \n",
      "1                  3                  67.0            10,422,430   \n",
      "2                536                 136.0            36,321,847   \n",
      "3              2,182                 264.0            24,684,248   \n",
      "4                  1                  82.0            17,660,624   \n",
      "...              ...                   ...                   ...   \n",
      "4595             NaN                   2.0                14,217   \n",
      "4596             NaN                   1.0                   927   \n",
      "4597             NaN                   1.0                    74   \n",
      "4598             NaN                   NaN                   NaN   \n",
      "4599             NaN                   4.0               127,479   \n",
      "\n",
      "     Amazon Playlist Count Pandora Streams Pandora Track Stations  \\\n",
      "0                    114.0      18,004,655                 22,931   \n",
      "1                    111.0       7,780,028                 28,444   \n",
      "2                    172.0       5,022,621                  5,639   \n",
      "3                    210.0     190,260,277                203,384   \n",
      "4                    105.0       4,493,884                  7,006   \n",
      "...                    ...             ...                    ...   \n",
      "4595                   NaN      20,104,066                 13,184   \n",
      "4596                   NaN             NaN                    NaN   \n",
      "4597                   6.0      84,426,740                 28,999   \n",
      "4598                   7.0       6,817,840                    NaN   \n",
      "4599                   4.0      69,006,739                 11,320   \n",
      "\n",
      "     Soundcloud Streams  Shazam Counts TIDAL Popularity Explicit Track  \n",
      "0             4,818,457      2,669,262              NaN              0  \n",
      "1             6,623,075      1,118,279              NaN              1  \n",
      "2             7,208,651      5,285,340              NaN              0  \n",
      "3                   NaN     11,822,942              NaN              0  \n",
      "4               207,179        457,017              NaN              1  \n",
      "...                 ...            ...              ...            ...  \n",
      "4595         50,633,006        656,337              NaN              1  \n",
      "4596                NaN        193,590              NaN              0  \n",
      "4597                NaN      1,135,998              NaN              1  \n",
      "4598                NaN        448,292              NaN              0  \n",
      "4599                NaN        767,006              NaN              1  \n",
      "\n",
      "[4600 rows x 29 columns]\n"
     ]
    }
   ],
   "source": [
    "print(df)"
   ]
  },
  {
   "cell_type": "code",
   "execution_count": 249,
   "id": "b5ea14bb-81cc-44c8-b2a2-47f63de48395",
   "metadata": {},
   "outputs": [
    {
     "name": "stdout",
     "output_type": "stream",
     "text": [
      "                        Track                    Album Name          Artist  \\\n",
      "0         MILLION DOLLAR BABY  Million Dollar Baby - Single   Tommy Richman   \n",
      "1                 Not Like Us                   Not Like Us  Kendrick Lamar   \n",
      "2  i like the way you kiss me    I like the way you kiss me         Artemas   \n",
      "3                     Flowers              Flowers - Single     Miley Cyrus   \n",
      "4                     Houdini                       Houdini          Eminem   \n",
      "\n",
      "  Release Date          ISRC All Time Rank  Track Score Spotify Streams  \\\n",
      "0    4/26/2024  QM24S2402528             1        725.4     390,470,936   \n",
      "1     5/4/2024  USUG12400910             2        545.9     323,703,884   \n",
      "2    3/19/2024  QZJ842400387             3        538.4     601,309,283   \n",
      "3    1/12/2023  USSM12209777             4        444.9   2,031,280,633   \n",
      "4    5/31/2024  USUG12403398             5        423.3     107,034,922   \n",
      "\n",
      "  Spotify Playlist Count Spotify Playlist Reach  ...  SiriusXM Spins  \\\n",
      "0                 30,716            196,631,588  ...             684   \n",
      "1                 28,113            174,597,137  ...               3   \n",
      "2                 54,331            211,607,669  ...             536   \n",
      "3                269,802            136,569,078  ...           2,182   \n",
      "4                  7,223            151,469,874  ...               1   \n",
      "\n",
      "  Deezer Playlist Count Deezer Playlist Reach Amazon Playlist Count  \\\n",
      "0                  62.0            17,598,718                 114.0   \n",
      "1                  67.0            10,422,430                 111.0   \n",
      "2                 136.0            36,321,847                 172.0   \n",
      "3                 264.0            24,684,248                 210.0   \n",
      "4                  82.0            17,660,624                 105.0   \n",
      "\n",
      "  Pandora Streams Pandora Track Stations Soundcloud Streams  Shazam Counts  \\\n",
      "0      18,004,655                 22,931          4,818,457      2,669,262   \n",
      "1       7,780,028                 28,444          6,623,075      1,118,279   \n",
      "2       5,022,621                  5,639          7,208,651      5,285,340   \n",
      "3     190,260,277                203,384                NaN     11,822,942   \n",
      "4       4,493,884                  7,006            207,179        457,017   \n",
      "\n",
      "  TIDAL Popularity Explicit Track  \n",
      "0              NaN              0  \n",
      "1              NaN              1  \n",
      "2              NaN              0  \n",
      "3              NaN              0  \n",
      "4              NaN              1  \n",
      "\n",
      "[5 rows x 29 columns]\n"
     ]
    }
   ],
   "source": [
    "print(df.head())"
   ]
  },
  {
   "cell_type": "code",
   "execution_count": 250,
   "id": "854c830f-9519-4dad-aeb8-344a4212e720",
   "metadata": {},
   "outputs": [
    {
     "name": "stdout",
     "output_type": "stream",
     "text": [
      "<class 'pandas.core.frame.DataFrame'>\n",
      "RangeIndex: 4600 entries, 0 to 4599\n",
      "Data columns (total 29 columns):\n",
      " #   Column                      Non-Null Count  Dtype  \n",
      "---  ------                      --------------  -----  \n",
      " 0   Track                       4600 non-null   object \n",
      " 1   Album Name                  4600 non-null   object \n",
      " 2   Artist                      4595 non-null   object \n",
      " 3   Release Date                4600 non-null   object \n",
      " 4   ISRC                        4600 non-null   object \n",
      " 5   All Time Rank               4600 non-null   object \n",
      " 6   Track Score                 4600 non-null   float64\n",
      " 7   Spotify Streams             4487 non-null   object \n",
      " 8   Spotify Playlist Count      4530 non-null   object \n",
      " 9   Spotify Playlist Reach      4528 non-null   object \n",
      " 10  Spotify Popularity          3796 non-null   float64\n",
      " 11  YouTube Views               4292 non-null   object \n",
      " 12  YouTube Likes               4285 non-null   object \n",
      " 13  TikTok Posts                3427 non-null   object \n",
      " 14  TikTok Likes                3620 non-null   object \n",
      " 15  TikTok Views                3619 non-null   object \n",
      " 16  YouTube Playlist Reach      3591 non-null   object \n",
      " 17  Apple Music Playlist Count  4039 non-null   float64\n",
      " 18  AirPlay Spins               4102 non-null   object \n",
      " 19  SiriusXM Spins              2477 non-null   object \n",
      " 20  Deezer Playlist Count       3679 non-null   float64\n",
      " 21  Deezer Playlist Reach       3672 non-null   object \n",
      " 22  Amazon Playlist Count       3545 non-null   float64\n",
      " 23  Pandora Streams             3494 non-null   object \n",
      " 24  Pandora Track Stations      3332 non-null   object \n",
      " 25  Soundcloud Streams          1267 non-null   object \n",
      " 26  Shazam Counts               4023 non-null   object \n",
      " 27  TIDAL Popularity            0 non-null      float64\n",
      " 28  Explicit Track              4600 non-null   int64  \n",
      "dtypes: float64(6), int64(1), object(22)\n",
      "memory usage: 1.0+ MB\n",
      "None\n"
     ]
    }
   ],
   "source": [
    "print(df.info())"
   ]
  },
  {
   "cell_type": "code",
   "execution_count": 264,
   "id": "dd27b2f7-8ca5-46e9-a24a-7899d85c7acb",
   "metadata": {},
   "outputs": [
    {
     "name": "stdout",
     "output_type": "stream",
     "text": [
      "                        Release Date  Track Score  Spotify Popularity  \\\n",
      "count                           4600  4600.000000         3796.000000   \n",
      "mean   2021-01-27 07:48:18.782608896    41.844043           63.501581   \n",
      "min              1987-07-21 00:00:00    19.400000            1.000000   \n",
      "25%              2019-07-16 18:00:00    23.300000           61.000000   \n",
      "50%              2022-06-01 00:00:00    29.900000           67.000000   \n",
      "75%              2023-08-11 00:00:00    44.425000           73.000000   \n",
      "max              2024-06-14 00:00:00   725.400000           96.000000   \n",
      "std                              NaN    38.543766           16.186438   \n",
      "\n",
      "       Apple Music Playlist Count  Deezer Playlist Count  \\\n",
      "count                  4039.00000            3679.000000   \n",
      "mean                     54.60312              32.310954   \n",
      "min                       1.00000               1.000000   \n",
      "25%                      10.00000               5.000000   \n",
      "50%                      28.00000              15.000000   \n",
      "75%                      70.00000              37.000000   \n",
      "max                     859.00000             632.000000   \n",
      "std                      71.61227              54.274538   \n",
      "\n",
      "       Amazon Playlist Count  TIDAL Popularity  Explicit Track  \n",
      "count            3545.000000               0.0     4600.000000  \n",
      "mean               25.348942               NaN        0.358913  \n",
      "min                 1.000000               NaN        0.000000  \n",
      "25%                 8.000000               NaN        0.000000  \n",
      "50%                17.000000               NaN        0.000000  \n",
      "75%                34.000000               NaN        1.000000  \n",
      "max               210.000000               NaN        1.000000  \n",
      "std                25.989826               NaN        0.479734  \n"
     ]
    }
   ],
   "source": [
    "print(df.describe())"
   ]
  },
  {
   "cell_type": "code",
   "execution_count": 251,
   "id": "07d675e0-28ff-4ec1-9e69-cd51ba147872",
   "metadata": {},
   "outputs": [
    {
     "name": "stdout",
     "output_type": "stream",
     "text": [
      "0       4/26/2024\n",
      "1        5/4/2024\n",
      "2       3/19/2024\n",
      "3       1/12/2023\n",
      "4       5/31/2024\n",
      "          ...    \n",
      "4595     9/5/2017\n",
      "4596    7/27/2018\n",
      "4597    2/28/2020\n",
      "4598    11/8/2016\n",
      "4599    4/11/2017\n",
      "Name: Release Date, Length: 4600, dtype: object\n"
     ]
    }
   ],
   "source": [
    "print(df['Release Date'])"
   ]
  },
  {
   "cell_type": "code",
   "execution_count": 252,
   "id": "d0213bf1-0506-4490-87a4-00b6e0031234",
   "metadata": {},
   "outputs": [
    {
     "name": "stdout",
     "output_type": "stream",
     "text": [
      "0      2024-04-26\n",
      "1      2024-05-04\n",
      "2      2024-03-19\n",
      "3      2023-01-12\n",
      "4      2024-05-31\n",
      "          ...    \n",
      "4595   2017-09-05\n",
      "4596   2018-07-27\n",
      "4597   2020-02-28\n",
      "4598   2016-11-08\n",
      "4599   2017-04-11\n",
      "Name: Release Date, Length: 4600, dtype: datetime64[ns]\n"
     ]
    }
   ],
   "source": [
    "print(pd.to_datetime(df['Release Date']))"
   ]
  },
  {
   "cell_type": "code",
   "execution_count": null,
   "id": "b9471ca8-213e-463d-89c6-2078ab24d775",
   "metadata": {},
   "outputs": [],
   "source": []
  },
  {
   "cell_type": "code",
   "execution_count": 253,
   "id": "5d7fd9d3-74d5-4a17-a8e2-37187d500d37",
   "metadata": {},
   "outputs": [],
   "source": [
    "#Convert 'release_date' to datetime format\n",
    "df['Release Date'] = pd.to_datetime(df['Release Date'])"
   ]
  },
  {
   "cell_type": "code",
   "execution_count": 254,
   "id": "85332610-9557-4ba6-b2d9-733d220e9ad2",
   "metadata": {},
   "outputs": [
    {
     "name": "stdout",
     "output_type": "stream",
     "text": [
      "0      2024-04-26\n",
      "1      2024-05-04\n",
      "2      2024-03-19\n",
      "3      2023-01-12\n",
      "4      2024-05-31\n",
      "          ...    \n",
      "4595   2017-09-05\n",
      "4596   2018-07-27\n",
      "4597   2020-02-28\n",
      "4598   2016-11-08\n",
      "4599   2017-04-11\n",
      "Name: Release Date, Length: 4600, dtype: datetime64[ns]\n"
     ]
    }
   ],
   "source": [
    "print(df['Release Date'])"
   ]
  },
  {
   "cell_type": "markdown",
   "id": "899ad321-f674-445d-bde8-939d28cd257c",
   "metadata": {},
   "source": [
    "### Step 2: Analyze the Data"
   ]
  },
  {
   "cell_type": "markdown",
   "id": "d9b98328-ebac-40cb-af2e-ba9a0c4c8850",
   "metadata": {},
   "source": [
    "#### Calculate Spotify Streams Per Artist"
   ]
  },
  {
   "cell_type": "code",
   "execution_count": 255,
   "id": "fcb5fa15-5b13-4754-80dc-fe2c86c082e3",
   "metadata": {},
   "outputs": [],
   "source": [
    "spotify_df = df.iloc[:, :11]"
   ]
  },
  {
   "cell_type": "code",
   "execution_count": 256,
   "id": "8fcf2ce4-4879-4a3b-9dc0-a2908b31097e",
   "metadata": {},
   "outputs": [
    {
     "data": {
      "text/html": [
       "<div>\n",
       "<style scoped>\n",
       "    .dataframe tbody tr th:only-of-type {\n",
       "        vertical-align: middle;\n",
       "    }\n",
       "\n",
       "    .dataframe tbody tr th {\n",
       "        vertical-align: top;\n",
       "    }\n",
       "\n",
       "    .dataframe thead th {\n",
       "        text-align: right;\n",
       "    }\n",
       "</style>\n",
       "<table border=\"1\" class=\"dataframe\">\n",
       "  <thead>\n",
       "    <tr style=\"text-align: right;\">\n",
       "      <th></th>\n",
       "      <th>Track</th>\n",
       "      <th>Album Name</th>\n",
       "      <th>Artist</th>\n",
       "      <th>Release Date</th>\n",
       "      <th>ISRC</th>\n",
       "      <th>All Time Rank</th>\n",
       "      <th>Track Score</th>\n",
       "      <th>Spotify Streams</th>\n",
       "      <th>Spotify Playlist Count</th>\n",
       "      <th>Spotify Playlist Reach</th>\n",
       "      <th>Spotify Popularity</th>\n",
       "    </tr>\n",
       "  </thead>\n",
       "  <tbody>\n",
       "    <tr>\n",
       "      <th>0</th>\n",
       "      <td>MILLION DOLLAR BABY</td>\n",
       "      <td>Million Dollar Baby - Single</td>\n",
       "      <td>Tommy Richman</td>\n",
       "      <td>2024-04-26</td>\n",
       "      <td>QM24S2402528</td>\n",
       "      <td>1</td>\n",
       "      <td>725.4</td>\n",
       "      <td>390,470,936</td>\n",
       "      <td>30,716</td>\n",
       "      <td>196,631,588</td>\n",
       "      <td>92.0</td>\n",
       "    </tr>\n",
       "    <tr>\n",
       "      <th>1</th>\n",
       "      <td>Not Like Us</td>\n",
       "      <td>Not Like Us</td>\n",
       "      <td>Kendrick Lamar</td>\n",
       "      <td>2024-05-04</td>\n",
       "      <td>USUG12400910</td>\n",
       "      <td>2</td>\n",
       "      <td>545.9</td>\n",
       "      <td>323,703,884</td>\n",
       "      <td>28,113</td>\n",
       "      <td>174,597,137</td>\n",
       "      <td>92.0</td>\n",
       "    </tr>\n",
       "    <tr>\n",
       "      <th>2</th>\n",
       "      <td>i like the way you kiss me</td>\n",
       "      <td>I like the way you kiss me</td>\n",
       "      <td>Artemas</td>\n",
       "      <td>2024-03-19</td>\n",
       "      <td>QZJ842400387</td>\n",
       "      <td>3</td>\n",
       "      <td>538.4</td>\n",
       "      <td>601,309,283</td>\n",
       "      <td>54,331</td>\n",
       "      <td>211,607,669</td>\n",
       "      <td>92.0</td>\n",
       "    </tr>\n",
       "    <tr>\n",
       "      <th>3</th>\n",
       "      <td>Flowers</td>\n",
       "      <td>Flowers - Single</td>\n",
       "      <td>Miley Cyrus</td>\n",
       "      <td>2023-01-12</td>\n",
       "      <td>USSM12209777</td>\n",
       "      <td>4</td>\n",
       "      <td>444.9</td>\n",
       "      <td>2,031,280,633</td>\n",
       "      <td>269,802</td>\n",
       "      <td>136,569,078</td>\n",
       "      <td>85.0</td>\n",
       "    </tr>\n",
       "    <tr>\n",
       "      <th>4</th>\n",
       "      <td>Houdini</td>\n",
       "      <td>Houdini</td>\n",
       "      <td>Eminem</td>\n",
       "      <td>2024-05-31</td>\n",
       "      <td>USUG12403398</td>\n",
       "      <td>5</td>\n",
       "      <td>423.3</td>\n",
       "      <td>107,034,922</td>\n",
       "      <td>7,223</td>\n",
       "      <td>151,469,874</td>\n",
       "      <td>88.0</td>\n",
       "    </tr>\n",
       "    <tr>\n",
       "      <th>...</th>\n",
       "      <td>...</td>\n",
       "      <td>...</td>\n",
       "      <td>...</td>\n",
       "      <td>...</td>\n",
       "      <td>...</td>\n",
       "      <td>...</td>\n",
       "      <td>...</td>\n",
       "      <td>...</td>\n",
       "      <td>...</td>\n",
       "      <td>...</td>\n",
       "      <td>...</td>\n",
       "    </tr>\n",
       "    <tr>\n",
       "      <th>4595</th>\n",
       "      <td>For the Last Time</td>\n",
       "      <td>For the Last Time</td>\n",
       "      <td>$uicideboy$</td>\n",
       "      <td>2017-09-05</td>\n",
       "      <td>QM8DG1703420</td>\n",
       "      <td>4,585</td>\n",
       "      <td>19.4</td>\n",
       "      <td>305,049,963</td>\n",
       "      <td>65,770</td>\n",
       "      <td>5,103,054</td>\n",
       "      <td>71.0</td>\n",
       "    </tr>\n",
       "    <tr>\n",
       "      <th>4596</th>\n",
       "      <td>Dil Meri Na Sune</td>\n",
       "      <td>Dil Meri Na Sune (From \"Genius\")</td>\n",
       "      <td>Atif Aslam</td>\n",
       "      <td>2018-07-27</td>\n",
       "      <td>INT101800122</td>\n",
       "      <td>4,575</td>\n",
       "      <td>19.4</td>\n",
       "      <td>52,282,360</td>\n",
       "      <td>4,602</td>\n",
       "      <td>1,449,767</td>\n",
       "      <td>56.0</td>\n",
       "    </tr>\n",
       "    <tr>\n",
       "      <th>4597</th>\n",
       "      <td>Grace (feat. 42 Dugg)</td>\n",
       "      <td>My Turn</td>\n",
       "      <td>Lil Baby</td>\n",
       "      <td>2020-02-28</td>\n",
       "      <td>USUG12000043</td>\n",
       "      <td>4,571</td>\n",
       "      <td>19.4</td>\n",
       "      <td>189,972,685</td>\n",
       "      <td>72,066</td>\n",
       "      <td>6,704,802</td>\n",
       "      <td>65.0</td>\n",
       "    </tr>\n",
       "    <tr>\n",
       "      <th>4598</th>\n",
       "      <td>Nashe Si Chadh Gayi</td>\n",
       "      <td>November Top 10 Songs</td>\n",
       "      <td>Arijit Singh</td>\n",
       "      <td>2016-11-08</td>\n",
       "      <td>INY091600067</td>\n",
       "      <td>4,591</td>\n",
       "      <td>19.4</td>\n",
       "      <td>145,467,020</td>\n",
       "      <td>14,037</td>\n",
       "      <td>7,387,064</td>\n",
       "      <td>66.0</td>\n",
       "    </tr>\n",
       "    <tr>\n",
       "      <th>4599</th>\n",
       "      <td>Me Acostumbre (feat. Bad Bunny)</td>\n",
       "      <td>Me Acostumbre (feat. Bad Bunny)</td>\n",
       "      <td>Arcï¿½ï¿½</td>\n",
       "      <td>2017-04-11</td>\n",
       "      <td>USB271700107</td>\n",
       "      <td>4,593</td>\n",
       "      <td>19.4</td>\n",
       "      <td>255,740,653</td>\n",
       "      <td>32,138</td>\n",
       "      <td>14,066,526</td>\n",
       "      <td>64.0</td>\n",
       "    </tr>\n",
       "  </tbody>\n",
       "</table>\n",
       "<p>4600 rows × 11 columns</p>\n",
       "</div>"
      ],
      "text/plain": [
       "                                Track                        Album Name  \\\n",
       "0                 MILLION DOLLAR BABY      Million Dollar Baby - Single   \n",
       "1                         Not Like Us                       Not Like Us   \n",
       "2          i like the way you kiss me        I like the way you kiss me   \n",
       "3                             Flowers                  Flowers - Single   \n",
       "4                             Houdini                           Houdini   \n",
       "...                               ...                               ...   \n",
       "4595                For the Last Time                 For the Last Time   \n",
       "4596                 Dil Meri Na Sune  Dil Meri Na Sune (From \"Genius\")   \n",
       "4597            Grace (feat. 42 Dugg)                           My Turn   \n",
       "4598              Nashe Si Chadh Gayi             November Top 10 Songs   \n",
       "4599  Me Acostumbre (feat. Bad Bunny)   Me Acostumbre (feat. Bad Bunny)   \n",
       "\n",
       "              Artist Release Date          ISRC All Time Rank  Track Score  \\\n",
       "0      Tommy Richman   2024-04-26  QM24S2402528             1        725.4   \n",
       "1     Kendrick Lamar   2024-05-04  USUG12400910             2        545.9   \n",
       "2            Artemas   2024-03-19  QZJ842400387             3        538.4   \n",
       "3        Miley Cyrus   2023-01-12  USSM12209777             4        444.9   \n",
       "4             Eminem   2024-05-31  USUG12403398             5        423.3   \n",
       "...              ...          ...           ...           ...          ...   \n",
       "4595     $uicideboy$   2017-09-05  QM8DG1703420         4,585         19.4   \n",
       "4596      Atif Aslam   2018-07-27  INT101800122         4,575         19.4   \n",
       "4597        Lil Baby   2020-02-28  USUG12000043         4,571         19.4   \n",
       "4598    Arijit Singh   2016-11-08  INY091600067         4,591         19.4   \n",
       "4599       Arcï¿½ï¿½   2017-04-11  USB271700107         4,593         19.4   \n",
       "\n",
       "     Spotify Streams Spotify Playlist Count Spotify Playlist Reach  \\\n",
       "0        390,470,936                 30,716            196,631,588   \n",
       "1        323,703,884                 28,113            174,597,137   \n",
       "2        601,309,283                 54,331            211,607,669   \n",
       "3      2,031,280,633                269,802            136,569,078   \n",
       "4        107,034,922                  7,223            151,469,874   \n",
       "...              ...                    ...                    ...   \n",
       "4595     305,049,963                 65,770              5,103,054   \n",
       "4596      52,282,360                  4,602              1,449,767   \n",
       "4597     189,972,685                 72,066              6,704,802   \n",
       "4598     145,467,020                 14,037              7,387,064   \n",
       "4599     255,740,653                 32,138             14,066,526   \n",
       "\n",
       "      Spotify Popularity  \n",
       "0                   92.0  \n",
       "1                   92.0  \n",
       "2                   92.0  \n",
       "3                   85.0  \n",
       "4                   88.0  \n",
       "...                  ...  \n",
       "4595                71.0  \n",
       "4596                56.0  \n",
       "4597                65.0  \n",
       "4598                66.0  \n",
       "4599                64.0  \n",
       "\n",
       "[4600 rows x 11 columns]"
      ]
     },
     "execution_count": 256,
     "metadata": {},
     "output_type": "execute_result"
    }
   ],
   "source": [
    "spotify_df.fillna(0)"
   ]
  },
  {
   "cell_type": "code",
   "execution_count": 257,
   "id": "128ce7c0-a0f1-419b-9f9e-6c6ef0e2a36b",
   "metadata": {},
   "outputs": [],
   "source": [
    "spotify_df = spotify_df.dropna()"
   ]
  },
  {
   "cell_type": "code",
   "execution_count": 258,
   "id": "20c866a5-3f09-4921-8f5b-9baf118abcb0",
   "metadata": {},
   "outputs": [
    {
     "name": "stdout",
     "output_type": "stream",
     "text": [
      "                                Track                        Album Name  \\\n",
      "0                 MILLION DOLLAR BABY      Million Dollar Baby - Single   \n",
      "1                         Not Like Us                       Not Like Us   \n",
      "2          i like the way you kiss me        I like the way you kiss me   \n",
      "3                             Flowers                  Flowers - Single   \n",
      "4                             Houdini                           Houdini   \n",
      "...                               ...                               ...   \n",
      "4595                For the Last Time                 For the Last Time   \n",
      "4596                 Dil Meri Na Sune  Dil Meri Na Sune (From \"Genius\")   \n",
      "4597            Grace (feat. 42 Dugg)                           My Turn   \n",
      "4598              Nashe Si Chadh Gayi             November Top 10 Songs   \n",
      "4599  Me Acostumbre (feat. Bad Bunny)   Me Acostumbre (feat. Bad Bunny)   \n",
      "\n",
      "              Artist Release Date          ISRC All Time Rank  Track Score  \\\n",
      "0      Tommy Richman   2024-04-26  QM24S2402528             1        725.4   \n",
      "1     Kendrick Lamar   2024-05-04  USUG12400910             2        545.9   \n",
      "2            Artemas   2024-03-19  QZJ842400387             3        538.4   \n",
      "3        Miley Cyrus   2023-01-12  USSM12209777             4        444.9   \n",
      "4             Eminem   2024-05-31  USUG12403398             5        423.3   \n",
      "...              ...          ...           ...           ...          ...   \n",
      "4595     $uicideboy$   2017-09-05  QM8DG1703420         4,585         19.4   \n",
      "4596      Atif Aslam   2018-07-27  INT101800122         4,575         19.4   \n",
      "4597        Lil Baby   2020-02-28  USUG12000043         4,571         19.4   \n",
      "4598    Arijit Singh   2016-11-08  INY091600067         4,591         19.4   \n",
      "4599       Arcï¿½ï¿½   2017-04-11  USB271700107         4,593         19.4   \n",
      "\n",
      "     Spotify Streams Spotify Playlist Count Spotify Playlist Reach  \\\n",
      "0        390,470,936                 30,716            196,631,588   \n",
      "1        323,703,884                 28,113            174,597,137   \n",
      "2        601,309,283                 54,331            211,607,669   \n",
      "3      2,031,280,633                269,802            136,569,078   \n",
      "4        107,034,922                  7,223            151,469,874   \n",
      "...              ...                    ...                    ...   \n",
      "4595     305,049,963                 65,770              5,103,054   \n",
      "4596      52,282,360                  4,602              1,449,767   \n",
      "4597     189,972,685                 72,066              6,704,802   \n",
      "4598     145,467,020                 14,037              7,387,064   \n",
      "4599     255,740,653                 32,138             14,066,526   \n",
      "\n",
      "      Spotify Popularity  \n",
      "0                   92.0  \n",
      "1                   92.0  \n",
      "2                   92.0  \n",
      "3                   85.0  \n",
      "4                   88.0  \n",
      "...                  ...  \n",
      "4595                71.0  \n",
      "4596                56.0  \n",
      "4597                65.0  \n",
      "4598                66.0  \n",
      "4599                64.0  \n",
      "\n",
      "[3780 rows x 11 columns]\n"
     ]
    }
   ],
   "source": [
    "print(spotify_df)"
   ]
  },
  {
   "cell_type": "code",
   "execution_count": 259,
   "id": "7f6abc1a-2274-498e-9226-6ff01017f49d",
   "metadata": {},
   "outputs": [],
   "source": [
    "spotify_df['Spotify Streams'] = spotify_df['Spotify Streams'].str.replace(',', '').astype(float)"
   ]
  },
  {
   "cell_type": "code",
   "execution_count": 260,
   "id": "c9191b56-8bf2-4a2e-bcb0-4b7fa5458b65",
   "metadata": {},
   "outputs": [
    {
     "name": "stdout",
     "output_type": "stream",
     "text": [
      "float64\n"
     ]
    }
   ],
   "source": [
    "print(spotify_df['Spotify Streams'].dtype)"
   ]
  },
  {
   "cell_type": "code",
   "execution_count": 261,
   "id": "8c331c47-9cb9-44aa-87a1-e0777f66e947",
   "metadata": {},
   "outputs": [],
   "source": [
    "spotify_df['Spotify Streams'] = spotify_df['Spotify Streams'].replace({'N/A': np.nan})\n",
    "spotify_df.dropna(subset=['Spotify Streams'], inplace=True)"
   ]
  },
  {
   "cell_type": "code",
   "execution_count": 262,
   "id": "932dd103-80db-4f66-b74d-632018a99dc2",
   "metadata": {},
   "outputs": [
    {
     "name": "stdout",
     "output_type": "stream",
     "text": [
      "Artist\n",
      "$OHO BANI                           5.406556e+07\n",
      "$uicideboy$                         1.653420e+09\n",
      "&ME                                 3.460163e+07\n",
      "(G)I-DLE                            8.180288e+08\n",
      ".diedlonely                         4.423587e+07\n",
      "                                        ...     \n",
      "ýýýýýýýýýýýý                        4.694580e+07\n",
      "ýýýýýýýýýýýý ýýýýýýýýýýýýýý         2.197052e+07\n",
      "ýýýýýýýýýýýýýýý ýýýýýýýýýýýýýýý     2.409532e+06\n",
      "ýýýýýýýýýýýýýýý(ýýýýýýýýýýýýýýý)    5.484080e+05\n",
      "ýýýýýýýýýýýýýýýýýý                  4.943057e+06\n",
      "Name: Spotify Streams, Length: 1665, dtype: float64\n"
     ]
    }
   ],
   "source": [
    "\n",
    "total_spotify_streams_per_artist = spotify_df.groupby('Artist')['Spotify Streams'].sum()\n",
    "print(total_spotify_streams_per_artist)"
   ]
  },
  {
   "cell_type": "markdown",
   "id": "0504bd0c-b4e9-4e00-a720-1287f6092d3e",
   "metadata": {},
   "source": [
    "#### Top 5 Most Streamed Songs of 2024"
   ]
  },
  {
   "cell_type": "code",
   "execution_count": 266,
   "id": "4a84e47f-9985-4812-b1d3-89033b109096",
   "metadata": {},
   "outputs": [
    {
     "name": "stdout",
     "output_type": "stream",
     "text": [
      "                                             Track  \\\n",
      "55                                 Blinding Lights   \n",
      "53                                    Shape of You   \n",
      "132                              Someone You Loved   \n",
      "114  Sunflower - Spider-Man: Into the Spider-Verse   \n",
      "19                                       As It Was   \n",
      "\n",
      "                                        Album Name         Artist  \\\n",
      "55                                 Blinding Lights     The Weeknd   \n",
      "53                                    Shape of You     Ed Sheeran   \n",
      "132                                         Breach  Lewis Capaldi   \n",
      "114  Sunflower (Spider-Man: Into the Spider-Verse)    Post Malone   \n",
      "19                                       As It Was   Harry Styles   \n",
      "\n",
      "    Release Date          ISRC All Time Rank  Track Score  Spotify Streams  \\\n",
      "55    2019-11-29  USUG11904206            56        194.0     4.281469e+09   \n",
      "53    2017-01-06  GBAHS1600463            54        195.1     3.909459e+09   \n",
      "132   2018-11-08  DEUM71807062           133        129.7     3.427499e+09   \n",
      "114   2018-10-18  USUM71814888           116        143.9     3.358704e+09   \n",
      "19    2022-03-31  USSM12200612            20        292.0     3.301815e+09   \n",
      "\n",
      "    Spotify Playlist Count Spotify Playlist Reach  Spotify Popularity  \n",
      "55                 590,392            165,544,011                83.0  \n",
      "53                 316,378            148,037,882                80.0  \n",
      "132                338,763            160,553,919                82.0  \n",
      "114                392,082            123,917,182                79.0  \n",
      "19                 407,119            169,783,402                87.0  \n"
     ]
    }
   ],
   "source": [
    "most_streamed_songs = spotify_df.nlargest(5, 'Spotify Streams')\n",
    "print(most_streamed_songs)"
   ]
  },
  {
   "cell_type": "markdown",
   "id": "499d26c5-e474-4686-9932-cb344a1b9ebc",
   "metadata": {},
   "source": [
    "#### Top 5 Most Popular Songs of 2024"
   ]
  },
  {
   "cell_type": "code",
   "execution_count": 267,
   "id": "732d6b21-3c6f-4b5c-ac72-477976bf1530",
   "metadata": {},
   "outputs": [
    {
     "name": "stdout",
     "output_type": "stream",
     "text": [
      "                         Track                    Album Name  \\\n",
      "36          A Bar Song (Tipsy)            A Bar Song (Tipsy)   \n",
      "21                    Espresso                      Espresso   \n",
      "0          MILLION DOLLAR BABY  Million Dollar Baby - Single   \n",
      "1                  Not Like Us                   Not Like Us   \n",
      "2   i like the way you kiss me    I like the way you kiss me   \n",
      "\n",
      "               Artist Release Date          ISRC All Time Rank  Track Score  \\\n",
      "36          Shaboozey   2024-04-12  USUYG1541249            37        226.4   \n",
      "21  Sabrina Carpenter   2024-04-12  USUM72403305            22        281.5   \n",
      "0       Tommy Richman   2024-04-26  QM24S2402528             1        725.4   \n",
      "1      Kendrick Lamar   2024-05-04  USUG12400910             2        545.9   \n",
      "2             Artemas   2024-03-19  QZJ842400387             3        538.4   \n",
      "\n",
      "    Spotify Streams Spotify Playlist Count Spotify Playlist Reach  \\\n",
      "36      311928522.0                 25,766            180,237,463   \n",
      "21      547882871.0                 24,425            262,343,414   \n",
      "0       390470936.0                 30,716            196,631,588   \n",
      "1       323703884.0                 28,113            174,597,137   \n",
      "2       601309283.0                 54,331            211,607,669   \n",
      "\n",
      "    Spotify Popularity  \n",
      "36                96.0  \n",
      "21                95.0  \n",
      "0                 92.0  \n",
      "1                 92.0  \n",
      "2                 92.0  \n"
     ]
    }
   ],
   "source": [
    "most_popular_songs = spotify_df.nlargest(5, 'Spotify Popularity')\n",
    "print(most_popular_songs)"
   ]
  },
  {
   "cell_type": "code",
   "execution_count": null,
   "id": "bdd22d9b-ddef-40a4-8bfc-4e0a2bc10f5f",
   "metadata": {},
   "outputs": [],
   "source": [
    "%run fetch_genre.py\n",
    "#test data and input\n",
    "track_name = \"Espresso\"\n",
    "artist_name = \"Sabrina Carpenter\"\n",
    "genres = get_genre(track_name, artist_name)\n",
    "print(genres)\n",
    "\n",
    "df['genres'] = df.apply(lambda row: get_genre(row['Track'], row['Artist']), axis=1)\n"
   ]
  },
  {
   "cell_type": "code",
   "execution_count": null,
   "id": "1b3b9351-722d-4832-98f8-dc2128cbed5b",
   "metadata": {},
   "outputs": [],
   "source": []
  }
 ],
 "metadata": {
  "kernelspec": {
   "display_name": "Python 3 (ipykernel)",
   "language": "python",
   "name": "python3"
  },
  "language_info": {
   "codemirror_mode": {
    "name": "ipython",
    "version": 3
   },
   "file_extension": ".py",
   "mimetype": "text/x-python",
   "name": "python",
   "nbconvert_exporter": "python",
   "pygments_lexer": "ipython3",
   "version": "3.11.5"
  }
 },
 "nbformat": 4,
 "nbformat_minor": 5
}

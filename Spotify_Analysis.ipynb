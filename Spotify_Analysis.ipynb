{
 "cells": [
  {
   "cell_type": "markdown",
   "id": "b3493627-4b90-4ac1-a40e-60ddd097c7e0",
   "metadata": {},
   "source": [
    "## Kaggle Data Set https://www.kaggle.com/datasets/nelgiriyewithana/most-streamed-spotify-songs-2024\n"
   ]
  },
  {
   "cell_type": "markdown",
   "id": "d287323f-f0cb-416a-ae02-ad492501f0e5",
   "metadata": {},
   "source": [
    "### Step 1: Load and Clean the Data"
   ]
  },
  {
   "cell_type": "code",
   "execution_count": 28,
   "id": "8424d8d3-1b67-4631-94bd-ee3ca561dbe6",
   "metadata": {},
   "outputs": [],
   "source": [
    "import pandas as pd\n",
    "\n",
    "# Load the dataset\n",
    "df = pd.read_csv('Most Streamed Spotify Songs 2024.csv', encoding='ISO-8859-1')"
   ]
  },
  {
   "cell_type": "code",
   "execution_count": 29,
   "id": "b3b54392-3891-41da-bf31-55a65a3a0b6f",
   "metadata": {},
   "outputs": [
    {
     "name": "stdout",
     "output_type": "stream",
     "text": [
      "                                Track                        Album Name  \\\n",
      "0                 MILLION DOLLAR BABY      Million Dollar Baby - Single   \n",
      "1                         Not Like Us                       Not Like Us   \n",
      "2          i like the way you kiss me        I like the way you kiss me   \n",
      "3                             Flowers                  Flowers - Single   \n",
      "4                             Houdini                           Houdini   \n",
      "...                               ...                               ...   \n",
      "4595                For the Last Time                 For the Last Time   \n",
      "4596                 Dil Meri Na Sune  Dil Meri Na Sune (From \"Genius\")   \n",
      "4597            Grace (feat. 42 Dugg)                           My Turn   \n",
      "4598              Nashe Si Chadh Gayi             November Top 10 Songs   \n",
      "4599  Me Acostumbre (feat. Bad Bunny)   Me Acostumbre (feat. Bad Bunny)   \n",
      "\n",
      "              Artist Release Date          ISRC All Time Rank  Track Score  \\\n",
      "0      Tommy Richman    4/26/2024  QM24S2402528             1        725.4   \n",
      "1     Kendrick Lamar     5/4/2024  USUG12400910             2        545.9   \n",
      "2            Artemas    3/19/2024  QZJ842400387             3        538.4   \n",
      "3        Miley Cyrus    1/12/2023  USSM12209777             4        444.9   \n",
      "4             Eminem    5/31/2024  USUG12403398             5        423.3   \n",
      "...              ...          ...           ...           ...          ...   \n",
      "4595     $uicideboy$     9/5/2017  QM8DG1703420         4,585         19.4   \n",
      "4596      Atif Aslam    7/27/2018  INT101800122         4,575         19.4   \n",
      "4597        Lil Baby    2/28/2020  USUG12000043         4,571         19.4   \n",
      "4598    Arijit Singh    11/8/2016  INY091600067         4,591         19.4   \n",
      "4599       Arcï¿½ï¿½    4/11/2017  USB271700107         4,593         19.4   \n",
      "\n",
      "     Spotify Streams Spotify Playlist Count Spotify Playlist Reach  ...  \\\n",
      "0        390,470,936                 30,716            196,631,588  ...   \n",
      "1        323,703,884                 28,113            174,597,137  ...   \n",
      "2        601,309,283                 54,331            211,607,669  ...   \n",
      "3      2,031,280,633                269,802            136,569,078  ...   \n",
      "4        107,034,922                  7,223            151,469,874  ...   \n",
      "...              ...                    ...                    ...  ...   \n",
      "4595     305,049,963                 65,770              5,103,054  ...   \n",
      "4596      52,282,360                  4,602              1,449,767  ...   \n",
      "4597     189,972,685                 72,066              6,704,802  ...   \n",
      "4598     145,467,020                 14,037              7,387,064  ...   \n",
      "4599     255,740,653                 32,138             14,066,526  ...   \n",
      "\n",
      "      SiriusXM Spins Deezer Playlist Count Deezer Playlist Reach  \\\n",
      "0                684                  62.0            17,598,718   \n",
      "1                  3                  67.0            10,422,430   \n",
      "2                536                 136.0            36,321,847   \n",
      "3              2,182                 264.0            24,684,248   \n",
      "4                  1                  82.0            17,660,624   \n",
      "...              ...                   ...                   ...   \n",
      "4595             NaN                   2.0                14,217   \n",
      "4596             NaN                   1.0                   927   \n",
      "4597             NaN                   1.0                    74   \n",
      "4598             NaN                   NaN                   NaN   \n",
      "4599             NaN                   4.0               127,479   \n",
      "\n",
      "     Amazon Playlist Count Pandora Streams Pandora Track Stations  \\\n",
      "0                    114.0      18,004,655                 22,931   \n",
      "1                    111.0       7,780,028                 28,444   \n",
      "2                    172.0       5,022,621                  5,639   \n",
      "3                    210.0     190,260,277                203,384   \n",
      "4                    105.0       4,493,884                  7,006   \n",
      "...                    ...             ...                    ...   \n",
      "4595                   NaN      20,104,066                 13,184   \n",
      "4596                   NaN             NaN                    NaN   \n",
      "4597                   6.0      84,426,740                 28,999   \n",
      "4598                   7.0       6,817,840                    NaN   \n",
      "4599                   4.0      69,006,739                 11,320   \n",
      "\n",
      "     Soundcloud Streams  Shazam Counts TIDAL Popularity Explicit Track  \n",
      "0             4,818,457      2,669,262              NaN              0  \n",
      "1             6,623,075      1,118,279              NaN              1  \n",
      "2             7,208,651      5,285,340              NaN              0  \n",
      "3                   NaN     11,822,942              NaN              0  \n",
      "4               207,179        457,017              NaN              1  \n",
      "...                 ...            ...              ...            ...  \n",
      "4595         50,633,006        656,337              NaN              1  \n",
      "4596                NaN        193,590              NaN              0  \n",
      "4597                NaN      1,135,998              NaN              1  \n",
      "4598                NaN        448,292              NaN              0  \n",
      "4599                NaN        767,006              NaN              1  \n",
      "\n",
      "[4600 rows x 29 columns]\n"
     ]
    }
   ],
   "source": [
    "print(df)"
   ]
  },
  {
   "cell_type": "code",
   "execution_count": 30,
   "id": "b5ea14bb-81cc-44c8-b2a2-47f63de48395",
   "metadata": {},
   "outputs": [
    {
     "name": "stdout",
     "output_type": "stream",
     "text": [
      "                        Track                    Album Name          Artist  \\\n",
      "0         MILLION DOLLAR BABY  Million Dollar Baby - Single   Tommy Richman   \n",
      "1                 Not Like Us                   Not Like Us  Kendrick Lamar   \n",
      "2  i like the way you kiss me    I like the way you kiss me         Artemas   \n",
      "3                     Flowers              Flowers - Single     Miley Cyrus   \n",
      "4                     Houdini                       Houdini          Eminem   \n",
      "\n",
      "  Release Date          ISRC All Time Rank  Track Score Spotify Streams  \\\n",
      "0    4/26/2024  QM24S2402528             1        725.4     390,470,936   \n",
      "1     5/4/2024  USUG12400910             2        545.9     323,703,884   \n",
      "2    3/19/2024  QZJ842400387             3        538.4     601,309,283   \n",
      "3    1/12/2023  USSM12209777             4        444.9   2,031,280,633   \n",
      "4    5/31/2024  USUG12403398             5        423.3     107,034,922   \n",
      "\n",
      "  Spotify Playlist Count Spotify Playlist Reach  ...  SiriusXM Spins  \\\n",
      "0                 30,716            196,631,588  ...             684   \n",
      "1                 28,113            174,597,137  ...               3   \n",
      "2                 54,331            211,607,669  ...             536   \n",
      "3                269,802            136,569,078  ...           2,182   \n",
      "4                  7,223            151,469,874  ...               1   \n",
      "\n",
      "  Deezer Playlist Count Deezer Playlist Reach Amazon Playlist Count  \\\n",
      "0                  62.0            17,598,718                 114.0   \n",
      "1                  67.0            10,422,430                 111.0   \n",
      "2                 136.0            36,321,847                 172.0   \n",
      "3                 264.0            24,684,248                 210.0   \n",
      "4                  82.0            17,660,624                 105.0   \n",
      "\n",
      "  Pandora Streams Pandora Track Stations Soundcloud Streams  Shazam Counts  \\\n",
      "0      18,004,655                 22,931          4,818,457      2,669,262   \n",
      "1       7,780,028                 28,444          6,623,075      1,118,279   \n",
      "2       5,022,621                  5,639          7,208,651      5,285,340   \n",
      "3     190,260,277                203,384                NaN     11,822,942   \n",
      "4       4,493,884                  7,006            207,179        457,017   \n",
      "\n",
      "  TIDAL Popularity Explicit Track  \n",
      "0              NaN              0  \n",
      "1              NaN              1  \n",
      "2              NaN              0  \n",
      "3              NaN              0  \n",
      "4              NaN              1  \n",
      "\n",
      "[5 rows x 29 columns]\n"
     ]
    }
   ],
   "source": [
    "print(df.head())"
   ]
  },
  {
   "cell_type": "code",
   "execution_count": 31,
   "id": "854c830f-9519-4dad-aeb8-344a4212e720",
   "metadata": {},
   "outputs": [
    {
     "name": "stdout",
     "output_type": "stream",
     "text": [
      "<class 'pandas.core.frame.DataFrame'>\n",
      "RangeIndex: 4600 entries, 0 to 4599\n",
      "Data columns (total 29 columns):\n",
      " #   Column                      Non-Null Count  Dtype  \n",
      "---  ------                      --------------  -----  \n",
      " 0   Track                       4600 non-null   object \n",
      " 1   Album Name                  4600 non-null   object \n",
      " 2   Artist                      4595 non-null   object \n",
      " 3   Release Date                4600 non-null   object \n",
      " 4   ISRC                        4600 non-null   object \n",
      " 5   All Time Rank               4600 non-null   object \n",
      " 6   Track Score                 4600 non-null   float64\n",
      " 7   Spotify Streams             4487 non-null   object \n",
      " 8   Spotify Playlist Count      4530 non-null   object \n",
      " 9   Spotify Playlist Reach      4528 non-null   object \n",
      " 10  Spotify Popularity          3796 non-null   float64\n",
      " 11  YouTube Views               4292 non-null   object \n",
      " 12  YouTube Likes               4285 non-null   object \n",
      " 13  TikTok Posts                3427 non-null   object \n",
      " 14  TikTok Likes                3620 non-null   object \n",
      " 15  TikTok Views                3619 non-null   object \n",
      " 16  YouTube Playlist Reach      3591 non-null   object \n",
      " 17  Apple Music Playlist Count  4039 non-null   float64\n",
      " 18  AirPlay Spins               4102 non-null   object \n",
      " 19  SiriusXM Spins              2477 non-null   object \n",
      " 20  Deezer Playlist Count       3679 non-null   float64\n",
      " 21  Deezer Playlist Reach       3672 non-null   object \n",
      " 22  Amazon Playlist Count       3545 non-null   float64\n",
      " 23  Pandora Streams             3494 non-null   object \n",
      " 24  Pandora Track Stations      3332 non-null   object \n",
      " 25  Soundcloud Streams          1267 non-null   object \n",
      " 26  Shazam Counts               4023 non-null   object \n",
      " 27  TIDAL Popularity            0 non-null      float64\n",
      " 28  Explicit Track              4600 non-null   int64  \n",
      "dtypes: float64(6), int64(1), object(22)\n",
      "memory usage: 1.0+ MB\n",
      "None\n"
     ]
    }
   ],
   "source": [
    "print(df.info())"
   ]
  },
  {
   "cell_type": "code",
   "execution_count": 32,
   "id": "07d675e0-28ff-4ec1-9e69-cd51ba147872",
   "metadata": {},
   "outputs": [
    {
     "name": "stdout",
     "output_type": "stream",
     "text": [
      "0       4/26/2024\n",
      "1        5/4/2024\n",
      "2       3/19/2024\n",
      "3       1/12/2023\n",
      "4       5/31/2024\n",
      "          ...    \n",
      "4595     9/5/2017\n",
      "4596    7/27/2018\n",
      "4597    2/28/2020\n",
      "4598    11/8/2016\n",
      "4599    4/11/2017\n",
      "Name: Release Date, Length: 4600, dtype: object\n"
     ]
    }
   ],
   "source": [
    "print(df['Release Date'])"
   ]
  },
  {
   "cell_type": "code",
   "execution_count": 22,
   "id": "d0213bf1-0506-4490-87a4-00b6e0031234",
   "metadata": {},
   "outputs": [
    {
     "name": "stdout",
     "output_type": "stream",
     "text": [
      "0      2024-04-26\n",
      "1      2024-05-04\n",
      "2      2024-03-19\n",
      "3      2023-01-12\n",
      "4      2024-05-31\n",
      "          ...    \n",
      "4595   2017-09-05\n",
      "4596   2018-07-27\n",
      "4597   2020-02-28\n",
      "4598   2016-11-08\n",
      "4599   2017-04-11\n",
      "Name: Release Date, Length: 4600, dtype: datetime64[ns]\n"
     ]
    }
   ],
   "source": [
    "print(pd.to_datetime(df['Release Date']))"
   ]
  },
  {
   "cell_type": "code",
   "execution_count": null,
   "id": "b9471ca8-213e-463d-89c6-2078ab24d775",
   "metadata": {},
   "outputs": [],
   "source": []
  },
  {
   "cell_type": "code",
   "execution_count": 34,
   "id": "5d7fd9d3-74d5-4a17-a8e2-37187d500d37",
   "metadata": {},
   "outputs": [],
   "source": [
    "#Convert 'release_date' to datetime format\n",
    "df['Release Date'] = pd.to_datetime(df['Release Date'])"
   ]
  },
  {
   "cell_type": "code",
   "execution_count": 35,
   "id": "85332610-9557-4ba6-b2d9-733d220e9ad2",
   "metadata": {},
   "outputs": [
    {
     "name": "stdout",
     "output_type": "stream",
     "text": [
      "0      2024-04-26\n",
      "1      2024-05-04\n",
      "2      2024-03-19\n",
      "3      2023-01-12\n",
      "4      2024-05-31\n",
      "          ...    \n",
      "4595   2017-09-05\n",
      "4596   2018-07-27\n",
      "4597   2020-02-28\n",
      "4598   2016-11-08\n",
      "4599   2017-04-11\n",
      "Name: Release Date, Length: 4600, dtype: datetime64[ns]\n"
     ]
    }
   ],
   "source": [
    "print(df['Release Date'])"
   ]
  },
  {
   "cell_type": "markdown",
   "id": "899ad321-f674-445d-bde8-939d28cd257c",
   "metadata": {},
   "source": [
    "### Step 2: Analyze the Data"
   ]
  },
  {
   "cell_type": "markdown",
   "id": "d9b98328-ebac-40cb-af2e-ba9a0c4c8850",
   "metadata": {},
   "source": [
    "#### Calculate Streams Per Artist"
   ]
  },
  {
   "cell_type": "code",
   "execution_count": 37,
   "id": "932dd103-80db-4f66-b74d-632018a99dc2",
   "metadata": {},
   "outputs": [
    {
     "name": "stdout",
     "output_type": "stream",
     "text": [
      "Artist\n",
      "\"XY\"                                                                                           0\n",
      "$OHO BANI                                                                             54,065,563\n",
      "$uicideboy$                                    44,027,794675,082,623189,588,27073,979,851204,...\n",
      "&ME                                                                                   34,601,626\n",
      "(G)I-DLE                                             289,304,213286,016,224242,708,36858,909,647\n",
      "                                                                     ...                        \n",
      "ýýýýýýýýýýýýýýý ýýýýýýýýýýýýýýý                                                        2,409,532\n",
      "ýýýýýýýýýýýýýýý(ýýýýýýýýýýýýýýý)                                                         548,408\n",
      "ýýýýýýýýýýýýýýýýýý                                                                     4,943,057\n",
      "ýýýýýýýýýýýýýýýýýýýýý ýýýýýýýýýýýýýýýýýýýýý                                              456,034\n",
      "ýýýýýýýýýýýýýýýýýýýýýýýý                                                               3,225,791\n",
      "Name: Spotify Streams, Length: 1999, dtype: object\n"
     ]
    }
   ],
   "source": [
    "# Total streams per artist\n",
    "total_spotify_streams_per_artist = df.groupby('Artist')['Spotify Streams'].sum()\n",
    "print(total_spotify_streams_per_artist)"
   ]
  },
  {
   "cell_type": "code",
   "execution_count": 39,
   "id": "8c331c47-9cb9-44aa-87a1-e0777f66e947",
   "metadata": {},
   "outputs": [],
   "source": [
    "df['Spotify Streams'] = df['Spotify Streams'].str.replace(',', '').astype(float)"
   ]
  },
  {
   "cell_type": "code",
   "execution_count": 40,
   "id": "4a84e47f-9985-4812-b1d3-89033b109096",
   "metadata": {},
   "outputs": [
    {
     "name": "stdout",
     "output_type": "stream",
     "text": [
      "                                              Track  \\\n",
      "55                                  Blinding Lights   \n",
      "4254                                Blinding Lights   \n",
      "53                                     Shape of You   \n",
      "1637                                   Shape of You   \n",
      "132                               Someone You Loved   \n",
      "114   Sunflower - Spider-Man: Into the Spider-Verse   \n",
      "19                                        As It Was   \n",
      "3406                                      As It Was   \n",
      "262                                         Starboy   \n",
      "519                                       One Dance   \n",
      "\n",
      "                                         Album Name         Artist  \\\n",
      "55                                  Blinding Lights     The Weeknd   \n",
      "4254                                Blinding Lights        xSyborg   \n",
      "53                                     Shape of You     Ed Sheeran   \n",
      "1637                                   Shape of You        xSyborg   \n",
      "132                                          Breach  Lewis Capaldi   \n",
      "114   Sunflower (Spider-Man: Into the Spider-Verse)    Post Malone   \n",
      "19                                        As It Was   Harry Styles   \n",
      "3406                     As It Was (Official Video)   Harry Styles   \n",
      "262                                         Starboy     The Weeknd   \n",
      "519        One Dance (feat. Wizkid & Kyla) - Single          Drake   \n",
      "\n",
      "     Release Date          ISRC All Time Rank  Track Score  Spotify Streams  \\\n",
      "55     2019-11-29  USUG11904206            56        194.0     4.281469e+09   \n",
      "4254   2021-03-13  QZLBC2302779         4,229         20.5     4.261328e+09   \n",
      "53     2017-01-06  GBAHS1600463            54        195.1     3.909459e+09   \n",
      "1637   2021-02-20  QZLBC2302789         1,807         36.3     3.888356e+09   \n",
      "132    2018-11-08  DEUM71807062           133        129.7     3.427499e+09   \n",
      "114    2018-10-18  USUM71814888           116        143.9     3.358704e+09   \n",
      "19     2022-03-31  USSM12200612            20        292.0     3.301815e+09   \n",
      "3406   2022-03-31  USSM22200594         3,410         23.5     3.299082e+09   \n",
      "262    2016-09-22  USUG11600976           265         95.7     3.291262e+09   \n",
      "519    2016-04-04  USCM51600028           518         67.9     3.192204e+09   \n",
      "\n",
      "     Spotify Playlist Count Spotify Playlist Reach  ...  SiriusXM Spins  \\\n",
      "55                  590,392            165,544,011  ...           1,116   \n",
      "4254                    NaN                    NaN  ...             NaN   \n",
      "53                  316,378            148,037,882  ...             282   \n",
      "1637                    NaN                    NaN  ...             NaN   \n",
      "132                 338,763            160,553,919  ...             381   \n",
      "114                 392,082            123,917,182  ...             NaN   \n",
      "19                  407,119            169,783,402  ...           4,909   \n",
      "3406                      1                      1  ...             NaN   \n",
      "262                 366,133             98,022,646  ...             148   \n",
      "519                 379,853            131,832,723  ...             932   \n",
      "\n",
      "     Deezer Playlist Count Deezer Playlist Reach Amazon Playlist Count  \\\n",
      "55                   564.0            11,701,129                 184.0   \n",
      "4254                   NaN                   NaN                   NaN   \n",
      "53                   512.0             2,710,931                 115.0   \n",
      "1637                   NaN                   NaN                   NaN   \n",
      "132                  502.0             4,834,088                 110.0   \n",
      "114                   86.0               809,352                  99.0   \n",
      "19                   330.0            12,907,852                 189.0   \n",
      "3406                   NaN                   NaN                   NaN   \n",
      "262                  118.0               875,683                  67.0   \n",
      "519                  165.0             1,383,884                  97.0   \n",
      "\n",
      "     Pandora Streams Pandora Track Stations Soundcloud Streams  Shazam Counts  \\\n",
      "55       489,299,762                319,634         28,659,471     28,994,660   \n",
      "4254             NaN                    NaN                NaN            NaN   \n",
      "53       733,565,655                651,557         78,149,375      1,146,246   \n",
      "1637             NaN                    NaN                NaN            NaN   \n",
      "132      427,212,257                357,540                NaN     29,266,297   \n",
      "114      546,367,356                906,813                NaN      1,569,935   \n",
      "19       132,624,772                 79,909                NaN     14,967,379   \n",
      "3406             NaN                    NaN                NaN            NaN   \n",
      "262      331,295,154                418,888         23,612,071     15,648,166   \n",
      "519      714,508,129                601,041                NaN     21,316,589   \n",
      "\n",
      "     TIDAL Popularity Explicit Track  \n",
      "55                NaN              0  \n",
      "4254              NaN              0  \n",
      "53                NaN              0  \n",
      "1637              NaN              0  \n",
      "132               NaN              0  \n",
      "114               NaN              0  \n",
      "19                NaN              0  \n",
      "3406              NaN              0  \n",
      "262               NaN              1  \n",
      "519               NaN              0  \n",
      "\n",
      "[10 rows x 29 columns]\n"
     ]
    }
   ],
   "source": [
    "most_streamed_songs = df.nlargest(10, 'Spotify Streams')\n",
    "print(most_streamed_songs)"
   ]
  },
  {
   "cell_type": "code",
   "execution_count": null,
   "id": "55860558-ef7f-4305-b948-5854ac8f8fea",
   "metadata": {},
   "outputs": [],
   "source": []
  }
 ],
 "metadata": {
  "kernelspec": {
   "display_name": "Python 3 (ipykernel)",
   "language": "python",
   "name": "python3"
  },
  "language_info": {
   "codemirror_mode": {
    "name": "ipython",
    "version": 3
   },
   "file_extension": ".py",
   "mimetype": "text/x-python",
   "name": "python",
   "nbconvert_exporter": "python",
   "pygments_lexer": "ipython3",
   "version": "3.11.5"
  }
 },
 "nbformat": 4,
 "nbformat_minor": 5
}
